{
 "cells": [
  {
   "cell_type": "code",
   "execution_count": null,
   "metadata": {},
   "outputs": [],
   "source": [
    "import argparse\n",
    "import random\n",
    "from gtd.io import save_stdout\n",
    "from gtd.log import set_log_level\n",
    "from gtd.utils import Config\n",
    "from textmorph.edit_model.training_run import EditTrainingRuns\n",
    "\n",
    "from textmorph.edit_model.editor import EditExample\n",
    "set_log_level('DEBUG')\n",
    "\n",
    "from textmorph import data\n"
   ]
  },
  {
   "cell_type": "code",
   "execution_count": null,
   "metadata": {},
   "outputs": [],
   "source": [
    "# create experiment\n",
    "experiments = EditTrainingRuns(check_commit=False)\n",
    "\n",
    "# create map of the composer checkpoints\n",
    "composer={'bach':63, 'beethoven':62, 'handel':64, 'mozart':65, 'brahms':28, 'vivaldi':29, 'schubert':30, 'haydn':31}\n",
    "\n",
    "\n",
    "# create an experiment from saved checkpoint\n",
    "# to run Bach dataset set EDIT_RUN\n",
    "EDIT_RUN=composer['bach']\n",
    "exp = experiments.get(EDIT_RUN)"
   ]
  },
  {
   "cell_type": "code",
   "execution_count": 15,
   "metadata": {},
   "outputs": [
    {
     "name": "stdout",
     "output_type": "stream",
     "text": [
      "Is this a music sample? (true/false):\n",
      "true\n",
      "Enter a source sentence:\n",
      "D2 G1 A1 B1 C2 D2 G1 G1 E2 C2 D2 E2 F#2 G2\n",
      "Enter whitelist (OK to leave empty):\n",
      "\n",
      "Enter blacklist (OK to leave empty):\n",
      "\n",
      "Enter target sentence (OK to leave empty):\n",
      "\n",
      "SOURCE: D2 G1 A1 B1 C2 D2 G1 G1 E2 C2 D2 E2 F#2 G2\n"
     ]
    }
   ],
   "source": [
    "editor = exp.editor\n",
    "\n",
    "ex = EditExample.from_prompt()\n",
    "print(ex)\n",
    "\n",
    "# Bach Minuet: D2 G1 A1 B1 C2 D2 G1 G1 E2 C2 D2 E2 F#2 G2\n",
    "# Mozart Sonata: B4 A4 G#4 A4 C5 D5 C5 B4 C5 E5 F4 E4 D#4 E4 B5 A5 G#5 A5 B5 A5 G#5"
   ]
  },
  {
   "cell_type": "code",
   "execution_count": 16,
   "metadata": {},
   "outputs": [
    {
     "name": "stdout",
     "output_type": "stream",
     "text": [
      "[SOURCE: D2 G1 A1 B1 C2 D2 G1 G1 E2 C2 D2 E2 F#2 G2\n",
      "(0.00) d2 g1 a1 b1 c2 d2 g1 e2 g1 e2 g1 e2\n",
      "(0.00) d2 g1 a1 b1 c2 d2 g1 e2 g1 e2 e1 e2 e2 e2 g1 e2 c2 d2 e2 g2\n",
      "(0.00) d2 g1 a1 b1 c2 d2 g1 b3 c2 c2 b1 c2 c2 c2 g1 e2 c2 d2 e2 g2\n",
      "(0.00) d2 g1 a1 b1 c2 d2 g1 b3 c2 b1 c2 c2 c2 c2 g1 e2 c2 d2 e2 g2\n",
      "(0.00) d2 g1 a1 b1 c2 d2 g1 b3 c2 b1 c2 c2 b1 c2 g1 e2 c2 d2 e2 g2]\n"
     ]
    }
   ],
   "source": [
    "output_words_batch, edit_traces = editor.edit([ex], beam_size=8)\n",
    "print(edit_traces)"
   ]
  },
  {
   "cell_type": "code",
   "execution_count": null,
   "metadata": {
    "collapsed": true
   },
   "outputs": [],
   "source": []
  }
 ],
 "metadata": {
  "kernelspec": {
   "display_name": "Python 2",
   "language": "python2.7",
   "name": "python2"
  },
  "language_info": {
   "codemirror_mode": {
    "name": "ipython",
    "version": 3
   },
   "file_extension": ".py",
   "mimetype": "text/x-python",
   "name": "python",
   "nbconvert_exporter": "python",
   "pygments_lexer": "ipython3",
   "version": "3.6.0"
  }
 },
 "nbformat": 4,
 "nbformat_minor": 2
}
